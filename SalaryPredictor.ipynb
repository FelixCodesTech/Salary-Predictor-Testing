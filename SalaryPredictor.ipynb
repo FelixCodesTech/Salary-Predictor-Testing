{
 "cells": [
  {
   "cell_type": "code",
   "execution_count": 90,
   "id": "d3ae29be",
   "metadata": {},
   "outputs": [],
   "source": [
    "import pandas as pd\n",
    "import numpy as np\n",
    "from sklearn.linear_model import LinearRegression"
   ]
  },
  {
   "cell_type": "code",
   "execution_count": 91,
   "id": "34f67395",
   "metadata": {},
   "outputs": [],
   "source": [
    "salaryDataPath = \"Salary_dataset.csv\"\n",
    "salaryData = pd.read_csv(salaryDataPath)\n",
    "\n",
    "salaryData = pd.DataFrame(salarayData, columns=[\"YearsExperience\", \"Salary\"])\n",
    "\n",
    "y = salarayData.Salary\n",
    "X = salarayData[\"YearsExperience\"]\n",
    "\n",
    "X = X.values.reshape(-1, 1)"
   ]
  },
  {
   "cell_type": "code",
   "execution_count": 92,
   "id": "e8d1325e",
   "metadata": {},
   "outputs": [
    {
     "data": {
      "text/plain": [
       "LinearRegression()"
      ]
     },
     "execution_count": 92,
     "metadata": {},
     "output_type": "execute_result"
    }
   ],
   "source": [
    "salaryDataModel = LinearRegression()\n",
    "salaryDataModel.fit(X, y)"
   ]
  },
  {
   "cell_type": "code",
   "execution_count": 93,
   "id": "dac99bf3",
   "metadata": {},
   "outputs": [
    {
     "name": "stdout",
     "output_type": "stream",
     "text": [
      "My predicted Income for  2  Year(s) of experience is:  43748 $\n",
      "So, that's about  3646 $ per Month\n"
     ]
    }
   ],
   "source": [
    "yearsExperience = 2\n",
    "predictedYears = salaryDataModel.predict([[yearsExperience]])\n",
    "predictedYearsRound = round(predictedYears[0])\n",
    "print(\"My predicted Income for \", yearsExperience, \" Year(s) of experience is: \", str(predictedYearsRound), \"$\")\n",
    "print(\"So, that's about \", round(predictedYearsRound/12), \"$ per Month\")"
   ]
  }
 ],
 "metadata": {
  "kernelspec": {
   "display_name": "Python 3 (ipykernel)",
   "language": "python",
   "name": "python3"
  },
  "language_info": {
   "codemirror_mode": {
    "name": "ipython",
    "version": 3
   },
   "file_extension": ".py",
   "mimetype": "text/x-python",
   "name": "python",
   "nbconvert_exporter": "python",
   "pygments_lexer": "ipython3",
   "version": "3.9.13"
  }
 },
 "nbformat": 4,
 "nbformat_minor": 5
}
